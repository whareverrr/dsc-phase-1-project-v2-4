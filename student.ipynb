{
 "cells": [
  {
   "cell_type": "markdown",
   "metadata": {},
   "source": [
    "## FINAL PROJECT SUBMISSION\n",
    "\n",
    "Please fill out:\n",
    "* Student name: HAWKINS MURITHI KOBIA\n",
    "* Student pace: FULL TIME\n",
    "* Scheduled project review date/time: MARCH 20TH \n",
    "* Instructor name: MARYANN MWIKALI\n",
    "* Blog post URL:\n"
   ]
  },
  {
   "cell_type": "code",
   "execution_count": 1,
   "metadata": {},
   "outputs": [],
   "source": [
    "# Your code here - remember to use markdown cells for comments as well!"
   ]
  },
  {
   "cell_type": "markdown",
   "metadata": {},
   "source": [
    "#### IMPORTING THE NECESSARY LIBRARIES"
   ]
  },
  {
   "cell_type": "code",
   "execution_count": null,
   "metadata": {},
   "outputs": [],
   "source": [
    "import pandas as pd\n",
    "import seaborn as sns\n",
    "import matplotlib.pyplot as plt\n",
    "%matplotlib inline"
   ]
  },
  {
   "cell_type": "markdown",
   "metadata": {},
   "source": [
    "#### READING  FILES"
   ]
  },
  {
   "cell_type": "code",
   "execution_count": null,
   "metadata": {},
   "outputs": [],
   "source": [
    "tmdb_movies = pd.read_csv('zippedData/tmdb.movies.csv', index_col = 0)\n",
    "\n",
    "movie_budget = pd.read_csv('zippedData/tn.movie_budgets.csv', index_col = 0)\n",
    "\n",
    "info_data = pd.read_csv('zippedData/rt.movie_info.tsv', sep ='\\t', encoding = 'latin1')\n",
    "\n",
    "reviews_data = pd.read_csv('zippedData/rt.reviews.tsv',sep = '\\t',encoding = 'latin1')\n"
   ]
  },
  {
   "cell_type": "code",
   "execution_count": null,
   "metadata": {},
   "outputs": [],
   "source": [
    "tmdb_movies"
   ]
  },
  {
   "cell_type": "code",
   "execution_count": null,
   "metadata": {},
   "outputs": [],
   "source": [
    "movie_budget"
   ]
  },
  {
   "cell_type": "code",
   "execution_count": null,
   "metadata": {
    "scrolled": true
   },
   "outputs": [],
   "source": [
    "info_data"
   ]
  },
  {
   "cell_type": "code",
   "execution_count": null,
   "metadata": {},
   "outputs": [],
   "source": [
    "reviews_data"
   ]
  },
  {
   "cell_type": "markdown",
   "metadata": {},
   "source": [
    "#### DATA CLEANING AND PRE-PROCESSING"
   ]
  },
  {
   "cell_type": "markdown",
   "metadata": {},
   "source": [
    "###### Data cleaning of:\n",
    "\n",
    "##### tmdb_movies = pd.read_csv('zippedData/tmdb.movies.csv', index_col = 0)\n",
    "\n",
    "tmdb_movies dataset;\n",
    "- It has 9 columns and 26517 rows \n",
    "- There are three data types in this dataset; (float,int,object)\n",
    "- There are no missing values in this dataset\n",
    "\n"
   ]
  },
  {
   "cell_type": "code",
   "execution_count": null,
   "metadata": {},
   "outputs": [],
   "source": [
    "tmdb_movies.info()"
   ]
  },
  {
   "cell_type": "code",
   "execution_count": null,
   "metadata": {},
   "outputs": [],
   "source": [
    "tmdb_movies.describe()"
   ]
  },
  {
   "cell_type": "code",
   "execution_count": null,
   "metadata": {},
   "outputs": [],
   "source": [
    "tmdb_movies.shape"
   ]
  },
  {
   "cell_type": "markdown",
   "metadata": {},
   "source": [
    "##### info_data = pd.read_csv('zippedData/rt.movie_info.tsv', sep ='\\t', encoding = 'latin1')\n",
    "\n",
    "info_data dataset;\n",
    "- It has 12 columns and 1560 rows \n",
    "- There are two data types in this dataset; (int,object)\n",
    "- There are missing values in this dataset which was handled by dropping irrelevant columns (currency,box office,studio).Then I dropped the other rows with missing values.\n",
    "- After handling the missing values,the dataset had 12 columns and 881 rows  \n"
   ]
  },
  {
   "cell_type": "code",
   "execution_count": null,
   "metadata": {},
   "outputs": [],
   "source": [
    "info_data"
   ]
  },
  {
   "cell_type": "code",
   "execution_count": null,
   "metadata": {},
   "outputs": [],
   "source": [
    "info_data.info()"
   ]
  },
  {
   "cell_type": "code",
   "execution_count": null,
   "metadata": {},
   "outputs": [],
   "source": [
    "info_data.describe()"
   ]
  },
  {
   "cell_type": "code",
   "execution_count": null,
   "metadata": {},
   "outputs": [],
   "source": [
    "info_data.shape"
   ]
  },
  {
   "cell_type": "code",
   "execution_count": null,
   "metadata": {},
   "outputs": [],
   "source": [
    "info_data.drop(columns = 'box_office', inplace = True)"
   ]
  },
  {
   "cell_type": "code",
   "execution_count": null,
   "metadata": {},
   "outputs": [],
   "source": [
    "info_data.drop(columns = 'currency', inplace = True)"
   ]
  },
  {
   "cell_type": "code",
   "execution_count": null,
   "metadata": {},
   "outputs": [],
   "source": [
    "info_data.drop(columns = 'studio', inplace = True)"
   ]
  },
  {
   "cell_type": "code",
   "execution_count": null,
   "metadata": {},
   "outputs": [],
   "source": [
    "info_data.dropna(inplace = True)"
   ]
  },
  {
   "cell_type": "code",
   "execution_count": null,
   "metadata": {},
   "outputs": [],
   "source": [
    "info_data.info()"
   ]
  },
  {
   "cell_type": "markdown",
   "metadata": {},
   "source": [
    "##### movie_budget = pd.read_csv('zippedData/tn.movie_budgets.csv', index_col = 0)\n",
    "\n",
    "movie_budget dataset;\n",
    "- It has 5 columns and 5782 rows \n",
    "- There is one data type in this dataset; (object)\n",
    "- There are no missing values in this dataset\n",
    "\n",
    "\n"
   ]
  },
  {
   "cell_type": "code",
   "execution_count": null,
   "metadata": {},
   "outputs": [],
   "source": [
    "movie_budget.info()"
   ]
  },
  {
   "cell_type": "code",
   "execution_count": null,
   "metadata": {},
   "outputs": [],
   "source": [
    "# Assuming 'column_name' is the name of the column containing the dollar sign and float values\n",
    "movie_budget['domestic_gross'] = movie_budget['domestic_gross'].str.replace('$', '')  # Remove dollar sign\n",
    "movie_budget['domestic_gross'] = movie_budget['domestic_gross'].str.replace(',', '')  # Remove commas\n",
    "movie_budget['domestic_gross'] = pd.to_numeric(movie_budget['domestic_gross'])\n"
   ]
  },
  {
   "cell_type": "code",
   "execution_count": null,
   "metadata": {},
   "outputs": [],
   "source": [
    "# Assuming 'column_name' is the name of the column containing the dollar sign and float values\n",
    "movie_budget['production_budget'] = movie_budget['production_budget'].str.replace('$', '')  # Remove dollar sign\n",
    "movie_budget['production_budget'] = movie_budget['production_budget'].str.replace(',', '')  # Remove commas\n",
    "movie_budget['production_budget'] = pd.to_numeric(movie_budget['production_budget'])"
   ]
  },
  {
   "cell_type": "code",
   "execution_count": null,
   "metadata": {},
   "outputs": [],
   "source": [
    "# Assuming 'column_name' is the name of the column containing the dollar sign and float values\n",
    "movie_budget['worldwide_gross'] = movie_budget['worldwide_gross'].str.replace('$', '')  # Remove dollar sign\n",
    "movie_budget['worldwide_gross'] = movie_budget['worldwide_gross'].str.replace(',', '')  # Remove commas\n",
    "movie_budget['worldwide_gross'] = pd.to_numeric(movie_budget['worldwide_gross'])"
   ]
  },
  {
   "cell_type": "code",
   "execution_count": null,
   "metadata": {},
   "outputs": [],
   "source": [
    "movie_budget.describe()"
   ]
  },
  {
   "cell_type": "code",
   "execution_count": null,
   "metadata": {},
   "outputs": [],
   "source": [
    "movie_budget.shape"
   ]
  },
  {
   "cell_type": "markdown",
   "metadata": {},
   "source": [
    "#### reviews_data = pd.read_csv('zippedData/rt.reviews.tsv',sep = '\\t',encoding = 'latin1')\n"
   ]
  },
  {
   "cell_type": "markdown",
   "metadata": {},
   "source": [
    "reviews_data dataset;\n",
    "\n",
    "- It has 8 columns and 54432 rows\n",
    "- There are two data types in this dataset; (int,object)\n",
    "- There are missing values in this dataset which was handled by dropping.\n",
    "- After handling the missing values,the dataset had 8 columns and 33988 rows"
   ]
  },
  {
   "cell_type": "code",
   "execution_count": null,
   "metadata": {},
   "outputs": [],
   "source": [
    "reviews_data"
   ]
  },
  {
   "cell_type": "code",
   "execution_count": null,
   "metadata": {},
   "outputs": [],
   "source": [
    "reviews_data.info()"
   ]
  },
  {
   "cell_type": "code",
   "execution_count": null,
   "metadata": {},
   "outputs": [],
   "source": [
    "reviews_data.describe()"
   ]
  },
  {
   "cell_type": "code",
   "execution_count": null,
   "metadata": {},
   "outputs": [],
   "source": [
    "reviews_data.shape"
   ]
  },
  {
   "cell_type": "code",
   "execution_count": null,
   "metadata": {},
   "outputs": [],
   "source": [
    "reviews_data.dropna(inplace = True)"
   ]
  },
  {
   "cell_type": "code",
   "execution_count": null,
   "metadata": {},
   "outputs": [],
   "source": [
    "reviews_data.info()"
   ]
  },
  {
   "cell_type": "markdown",
   "metadata": {},
   "source": [
    "### DATA VISUALIZATION"
   ]
  },
  {
   "cell_type": "markdown",
   "metadata": {},
   "source": [
    "### tmdb_movies = pd.read_csv('zippedData/tmdb.movies.csv', index_col = 0)"
   ]
  },
  {
   "cell_type": "code",
   "execution_count": null,
   "metadata": {},
   "outputs": [],
   "source": [
    "# release date is converted to datetime format\n",
    "tmdb_movies['release_date'] = pd.to_datetime(tmdb_movies['release_date'])\n",
    "# Extracting year from release_date\n",
    "tmdb_movies['release_year'] = tmdb_movies['release_date'].dt.year\n",
    "\n",
    "# Plotting line graph\n",
    "plt.figure(figsize=(10, 6))\n",
    "sns.lineplot(data=tmdb_movies, x='release_year', y='popularity',color='skyblue')\n",
    "plt.title('Release Date Trends')\n",
    "plt.xlabel('Release Year')\n",
    "plt.ylabel('Popularity')\n",
    "plt.xticks(rotation=45)\n",
    "plt.show()"
   ]
  },
  {
   "cell_type": "markdown",
   "metadata": {},
   "source": [
    "- The line plot illustrates trends in movie popularity over the years and provides insights into the evolution of audience preferences and the impact of release timing on movie success.\n",
    "\n",
    "- Microsoft can gain valuable insights into shifting audience preferences by understanding which types of movies have gained popularity or declined in recent years.\n",
    "\n",
    "- By observing trends in movie popularity, Microsoft can identify emerging genres, themes, or storytelling approaches that are gaining popularity among audiences.\n",
    "\n",
    "- By understanding how movie popularity has evolved over the years, Microsoft can anticipate future shifts in audience tastes and adapt their strategies accordingly to remain relevant in the long run."
   ]
  },
  {
   "cell_type": "code",
   "execution_count": null,
   "metadata": {},
   "outputs": [],
   "source": [
    "#plotting a histogram which shows the distribution of movie ratings\n",
    "\n",
    "plt.figure(figsize=(12,10))\n",
    "plt.hist(x=tmdb_movies['vote_average'], bins=40, edgecolor = 'black', color = 'skyblue')\n",
    "plt.axvline(x=tmdb_movies['vote_average'].mean(), color='red', linewidth=3)\n",
    "plt.title('Distribution of Movie Ratings')\n",
    "plt.xlabel('Rating')\n",
    "plt.ylabel('Frequency')\n",
    "plt.show()"
   ]
  },
  {
   "cell_type": "markdown",
   "metadata": {},
   "source": [
    "1. If Microsoft produces movies that fall to the left of the mean line on the histogram then it has lower ratings. On the other hand, those on the right side of the mean line are above average.\n",
    "\n",
    "2. Microsoft should use the mean line as a benchmark to measure the quality of its videos to industry standards. Being above the mean implies higher quality and possibly more audience satisfaction.\n",
    "\n",
    "3. If a film produced by Microsoft continually performs below the mean, it may be necessary to make changes to its content, genre, or production quality in order to increase public reaction and competition.\n",
    "\n",
    "4. Movies positioned to the right of the mean line receive positive audience reactions."
   ]
  },
  {
   "cell_type": "code",
   "execution_count": null,
   "metadata": {},
   "outputs": [],
   "source": [
    "# Plotting scatter plot\n",
    "\n",
    "plt.figure(figsize=(10, 6))\n",
    "sns.scatterplot(data=tmdb_movies, x='popularity', y='vote_count', color = 'skyblue')\n",
    "plt.title('Relationship between Popularity and Vote Count Columns')\n",
    "plt.xlabel('Movie Popularity')\n",
    "plt.ylabel('Vote Count')\n",
    "plt.show()"
   ]
  },
  {
   "cell_type": "markdown",
   "metadata": {},
   "source": [
    "- The scatter plot illustrates audience involvement by displaying the relationship between popularity and vote count. Microsoft may utilize this knowledge to create content that connects with viewers and encourages more involvement.\n",
    "- Analyzing popularity versus vote count enables Microsoft to develop success measures. High popularity combined with a significant vote count indicates a successful film, whereas poor participation may necessitate changes in marketing or content creation techniques.\n",
    "- Comparing engagement levels with competitors provides strategic knowledge. Understanding how Microsoft's movies perform in terms of popularity and vote count provides a competitive advantage, assisting in the identification of market strengths and prospects."
   ]
  },
  {
   "cell_type": "code",
   "execution_count": null,
   "metadata": {},
   "outputs": [],
   "source": [
    "# Plotting bar graph\n",
    "\n",
    "plt.figure(figsize=(16, 8))\n",
    "plt.bar(x=tmdb_movies['original_language'], height=tmdb_movies['vote_average'],color='skyblue')\n",
    "plt.title('Average Rating using Original Language')\n",
    "plt.xlabel('Original Language')\n",
    "plt.ylabel('Average Rating')\n",
    "plt.show()"
   ]
  },
  {
   "cell_type": "markdown",
   "metadata": {},
   "source": [
    "1. The bar plot can help Microsoft in determining audience language preferences by displaying average movie ratings based on their original languages.\n",
    "\n",
    "2. Microsoft can segment the market depending on the linguistic preferences provided by the bar plot. Languages with higher average ratings become target markets for targeted marketing and content offerings, which boosts relevance and engagement."
   ]
  },
  {
   "cell_type": "code",
   "execution_count": null,
   "metadata": {},
   "outputs": [],
   "source": [
    "# Convert 'release_date' column to datetime\n",
    "\n",
    "tmdb_movies['release_date'] = pd.to_datetime(tmdb_movies['release_date'])\n",
    "\n",
    "# Extract month and count movie releases per month\n",
    "\n",
    "monthly_release_count = tmdb_movies['release_date'].dt.month_name().value_counts()\n",
    "\n",
    "# Sort the months chronologically\n",
    "\n",
    "monthly_release_count = monthly_release_count.reindex([\n",
    "    'January', 'February', 'March', 'April', 'May', 'June',\n",
    "    'July', 'August', 'September', 'October', 'November', 'December'\n",
    "])\n",
    "\n",
    "# Plot the graph\n",
    "\n",
    "plt.figure(figsize=(10, 6))\n",
    "monthly_release_count.plot(kind='bar', edgecolor='black', color='skyblue')\n",
    "plt.title('Relationship between Movie Releases by Month')\n",
    "plt.xlabel('Month')\n",
    "plt.ylabel('Number of Releases')\n",
    "plt.show()"
   ]
  },
  {
   "cell_type": "markdown",
   "metadata": {},
   "source": [
    "- Analyzing movie releases by month allows Microsoft to strategically schedule their own releases. They can pinpoint peak months with fewer competing movies in order to maximize audience attention and box office results.\n",
    "\n",
    "- Comparing release patterns with competitors allows Microsoft to avoid direct competition while strategically positioning their films. Adjusting release schedules in response to competitors' activities improves market positioning and enhances chances of success.\n",
    "\n",
    "- The distribution of releases reflects audience participation and preferences, allowing Microsoft to customize content offers accordingly. During high-volume release months, they can tailor content to the preferences of their audience, increasing engagement and viewing.\n"
   ]
  },
  {
   "cell_type": "markdown",
   "metadata": {},
   "source": [
    "### movie_budget = pd.read_csv('zippedData/tn.movie_budgets.csv', index_col = 0)"
   ]
  },
  {
   "cell_type": "code",
   "execution_count": null,
   "metadata": {},
   "outputs": [],
   "source": [
    "# Histogram for Production Budget\n",
    "\n",
    "plt.figure(figsize=(12, 8))\n",
    "sns.histplot(data=movie_budget, x='production_budget', bins=30, kde=True)\n",
    "plt.title('Distribution of Production Budget')\n",
    "plt.xlabel('Production Budget')\n",
    "plt.ylabel('Frequency')\n",
    "plt.show()"
   ]
  },
  {
   "cell_type": "markdown",
   "metadata": {},
   "source": [
    "- This histogram offers insights into the industry's budgetary landscape by visualizing the distribution of production budgets across all the films in the collection.\n",
    "- In order to understand the normal investment levels in film production, stakeholders can evaluate the frequency and range of budget values.\n",
    "- By pointing out typical budget ranges and outliers, it facilitates budget planning and allocation by guiding resource allocation and risk management decision-making processes."
   ]
  },
  {
   "cell_type": "code",
   "execution_count": null,
   "metadata": {},
   "outputs": [],
   "source": [
    "# Scatter Plot for Domestic Gross vs. Worldwide Gross\n",
    "\n",
    "plt.figure(figsize=(10, 6))\n",
    "sns.scatterplot(x='domestic_gross', y='worldwide_gross', data=movie_budget)\n",
    "plt.title('Domestic Gross vs. Worldwide Gross')\n",
    "plt.xlabel('Domestic Gross Revenue')\n",
    "plt.ylabel('Worldwide Gross Revenue')\n",
    "plt.show()"
   ]
  },
  {
   "cell_type": "markdown",
   "metadata": {},
   "source": [
    "- This scatter plot depicts the relationship between domestic and global gross revenue for specific films, providing insight into revenue distribution and potential linkages between these factors.\n",
    "- Stakeholders can compare the effectiveness of domestic and overseas markets in terms of overall income creation."
   ]
  },
  {
   "cell_type": "code",
   "execution_count": null,
   "metadata": {
    "scrolled": false
   },
   "outputs": [],
   "source": [
    "#plotting a line graph for the movie_budget dataset\n",
    "\n",
    "plt.figure(figsize=(12, 6))\n",
    "movie_budget['release_date'] = pd.to_datetime(movie_budget['release_date'])\n",
    "movie_budget['year'] = movie_budget['release_date'].dt.year\n",
    "total_gross_by_year = movie_budget.groupby('year')['worldwide_gross'].sum()\n",
    "sns.lineplot(x=total_gross_by_year.index, y=total_gross_by_year.values)\n",
    "plt.title('Total Worldwide Gross Revenue Over Time')\n",
    "plt.xlabel('Year')\n",
    "plt.ylabel('Total Worldwide Gross Revenue')\n",
    "plt.show()"
   ]
  },
  {
   "cell_type": "markdown",
   "metadata": {},
   "source": [
    "- This visualization provides insight into the average performance of movies throughout time by displaying the average domestic gross revenue for each release year.\n",
    "- Stakeholders can study typical revenue patterns over time to gain a better understanding of the overall profitability and success rate of films published each year.\n",
    "- It aids in detecting prospective times of growth or collapse in the business, as well as influencing decisions on the timing and scheduling of film releases."
   ]
  },
  {
   "cell_type": "code",
   "execution_count": null,
   "metadata": {},
   "outputs": [],
   "source": [
    "#plotting the bar graph for the movie_budget dataset\n",
    "\n",
    "# Convert 'year' column to datetime format\n",
    "\n",
    "movie_budget['year'] = pd.to_datetime(movie_budget['year'], format='%Y')\n",
    "\n",
    "# Grouping years into intervals of 5 years\n",
    "\n",
    "average_domestic_gross_by_year = movie_budget.groupby(pd.Grouper(key='year', freq='5Y'))['domestic_gross'].mean()\n",
    "\n",
    "\n",
    "# Plotting the bar plot\n",
    "plt.figure(figsize=(12, 6))\n",
    "sns.barplot(x=average_domestic_gross_by_year.index.year, y=average_domestic_gross_by_year.values, color='skyblue')\n",
    "\n",
    "plt.title('Average Domestic Gross Revenue by Release Year')\n",
    "plt.xlabel('Release Year')\n",
    "plt.ylabel('Average Domestic Gross Revenue')\n",
    "plt.xticks(rotation=45, ha='right')\n",
    "plt.show()"
   ]
  },
  {
   "cell_type": "markdown",
   "metadata": {},
   "source": [
    "- This graph shows the general trend of total gross revenue throughout various release dates, capturing revenue changes over time.\n",
    "- Stakeholders can track long-term revenue generating patterns and detect periods of peak performance or stagnation in the industry.\n",
    "- It improves strategic planning by emphasizing previous revenue trends, allowing stakeholders to forecast future revenue and change their business strategy accordingly.\n"
   ]
  },
  {
   "cell_type": "markdown",
   "metadata": {},
   "source": [
    "## DATA MERGE\n",
    "\n",
    "Review_data and info_data Datasets\n",
    "- The Review_data datasets are combined in the cells below, however each dataset has an unrelated column rating. \n",
    "- As a result, I modified the column name in the Review_data movie information dataset.Merging the two Review_data databases based on the id column appears to be a wise choice. \n",
    "- By merging similar information from both datasets, we can gain a more complete view of movie performance. This allows us to analyze movie details alongside reviews and ratings, providing us with a more in-depth understanding of how various elements influence audience response. Having all of this data in one location facilitates analysis and informs decision-making. Merging the datasets helps us better understand the movies' performance."
   ]
  },
  {
   "cell_type": "markdown",
   "metadata": {},
   "source": [
    "### info_data = pd.read_csv('zippedData/rt.movie_info.tsv', sep ='\\t', encoding = 'latin1')\n",
    "\n",
    "### reviews_data = pd.read_csv('zippedData/rt.reviews.tsv',sep = '\\t',encoding = 'latin1')"
   ]
  },
  {
   "cell_type": "code",
   "execution_count": null,
   "metadata": {},
   "outputs": [],
   "source": [
    "info_data.rename(columns={'rating': 'movie_rating'}, inplace=True)"
   ]
  },
  {
   "cell_type": "code",
   "execution_count": null,
   "metadata": {},
   "outputs": [],
   "source": [
    "info_data.head()"
   ]
  },
  {
   "cell_type": "code",
   "execution_count": null,
   "metadata": {},
   "outputs": [],
   "source": [
    "merged_data = pd.merge(info_data, reviews_data, on='id')"
   ]
  },
  {
   "cell_type": "code",
   "execution_count": null,
   "metadata": {},
   "outputs": [],
   "source": [
    "merged_data.head()"
   ]
  },
  {
   "cell_type": "code",
   "execution_count": null,
   "metadata": {},
   "outputs": [],
   "source": [
    "merged_data.shape"
   ]
  },
  {
   "cell_type": "code",
   "execution_count": null,
   "metadata": {},
   "outputs": [],
   "source": [
    "merged_data.isna().sum()"
   ]
  },
  {
   "cell_type": "code",
   "execution_count": null,
   "metadata": {},
   "outputs": [],
   "source": [
    "merged_data['runtime'] = merged_data['runtime'].str.replace('minutes', '')\n",
    "merged_data['runtime'] = pd.to_numeric(merged_data['runtime'])"
   ]
  },
  {
   "cell_type": "code",
   "execution_count": null,
   "metadata": {},
   "outputs": [],
   "source": [
    "merged_data.head()"
   ]
  },
  {
   "cell_type": "markdown",
   "metadata": {},
   "source": [
    "## DATA VISUALIZATION OF MERGED DATASETS"
   ]
  },
  {
   "cell_type": "code",
   "execution_count": null,
   "metadata": {},
   "outputs": [],
   "source": [
    "# Convert 'runtime' column to numeric\n",
    "merged_data['runtime'] = pd.to_numeric(merged_data['runtime'], errors='coerce')\n",
    "\n",
    "# Drop rows with NaN values in 'runtime' column\n",
    "merged_data.dropna(subset=['runtime'], inplace=True)"
   ]
  },
  {
   "cell_type": "code",
   "execution_count": null,
   "metadata": {},
   "outputs": [],
   "source": [
    "plt.figure(figsize=(10, 6))\n",
    "sns.histplot(data=merged_data, x='runtime', bins=30, kde=True, color='skyblue')\n",
    "plt.title('Distribution of Movie Runtimes')\n",
    "plt.xlabel('Runtime (minutes)')\n",
    "plt.ylabel('Frequency')\n",
    "plt.show()"
   ]
  },
  {
   "cell_type": "markdown",
   "metadata": {},
   "source": [
    "- This histogram depicts the distribution of movie runtimes in the dataset, displaying the frequency of movies across various runtime intervals. It assists Microsoft in determining the average duration of movies and identifying any common trends or anomalies in runtime lengths. This knowledge can help decision-makers choose the best duration of movies to produce in order to meet audience preferences."
   ]
  },
  {
   "cell_type": "code",
   "execution_count": null,
   "metadata": {},
   "outputs": [],
   "source": [
    "popular_genres = merged_data['genre'].value_counts().head(10)\n",
    "print(\"Popular Genres\")\n",
    "print(popular_genres)\n",
    "print()\n"
   ]
  },
  {
   "cell_type": "code",
   "execution_count": null,
   "metadata": {
    "scrolled": false
   },
   "outputs": [],
   "source": [
    "plt.figure(figsize=(12, 8))\n",
    "sns.barplot(x=popular_genres.index, y=popular_genres.values, palette=\"Set2\")\n",
    "plt.title('Popular Genres')\n",
    "plt.xlabel('Genre')\n",
    "plt.ylabel('Frequency')\n",
    "plt.xticks(rotation=45, ha='right')\n",
    "plt.show()"
   ]
  },
  {
   "cell_type": "markdown",
   "metadata": {},
   "source": [
    "- The bar plot shows the frequency of popular movie genres, assisting Microsoft in determining the most common genres in the dataset. Understanding which genres are popular among viewers allows Microsoft to focus on developing films within those genres in order to maximize audience engagement and box office success."
   ]
  },
  {
   "cell_type": "code",
   "execution_count": null,
   "metadata": {},
   "outputs": [],
   "source": [
    "# Convert 'rating' column to numeric\n",
    "merged_data['rating'] = pd.to_numeric(merged_data['rating'], errors='coerce')\n",
    "\n",
    "# Drop rows with NaN values in 'rating' column\n",
    "merged_data.dropna(subset=['rating'], inplace=True)"
   ]
  },
  {
   "cell_type": "code",
   "execution_count": null,
   "metadata": {},
   "outputs": [],
   "source": [
    "plt.figure(figsize=(12, 8))\n",
    "sns.boxplot(x=merged_data['rating'], y=merged_data['movie_rating'], palette=\"Set2\")\n",
    "plt.title('Relationship between Movie Rating and Box Office Performance')\n",
    "plt.xlabel('Average Rating')\n",
    "plt.ylabel('Movie Rating')\n",
    "plt.show()"
   ]
  },
  {
   "cell_type": "markdown",
   "metadata": {},
   "source": [
    "- The box plot depicts the link between the average rating of movies and their box office performance, as measured by their ratings. It enables Microsoft to determine whether there is a link between movie ratings and box office success. This knowledge can help investors make decisions about investing in films with better average ratings in order to increase their chances of success at the box office."
   ]
  },
  {
   "cell_type": "markdown",
   "metadata": {},
   "source": [
    "### STATISTICAL ANALYSIS\n",
    "\n",
    "- tmdb_movies = pd.read_csv('zippedData/tmdb.movies.csv', index_col = 0)\n",
    "\n",
    "- movie_budget = pd.read_csv('zippedData/tn.movie_budgets.csv', index_col = 0)\n",
    "\n",
    "- info_data = pd.read_csv('zippedData/rt.movie_info.tsv', sep ='\\t', encoding = 'latin1')\n",
    "\n",
    "- reviews_data = pd.read_csv('zippedData/rt.reviews.tsv',sep = '\\t',encoding = 'latin1')\n"
   ]
  },
  {
   "cell_type": "code",
   "execution_count": null,
   "metadata": {},
   "outputs": [],
   "source": [
    "tmdb_movies.describe()"
   ]
  },
  {
   "cell_type": "code",
   "execution_count": null,
   "metadata": {
    "scrolled": false
   },
   "outputs": [],
   "source": [
    "# Calculate correlation\n",
    "correlation_matrix = tmdb_movies[['popularity', 'vote_average', 'vote_count','release_year']].corr()\n",
    "# Plot heatmap of correlation matrix\n",
    "plt.figure(figsize=(10, 8))\n",
    "sns.heatmap(correlation_matrix, annot=True, cmap='RdBu', fmt=\".2f\")\n",
    "plt.title('Correlation Matrix')\n",
    "plt.show()"
   ]
  },
  {
   "cell_type": "markdown",
   "metadata": {},
   "source": [
    "- In the heatmap, positive correlation is indicated by values closer to 1.00, with brighter colors indicating stronger positive correlation.\n",
    "- In the heatmap, negative correlation is indicated by values closer to -1.00, with darker colors indicating stronger negative correlation.\n",
    "\n",
    "The correlation matrix reveals:\n",
    "\n",
    "- Popularity correlates strongly with vote count (0.800).\n",
    "- Weak positive correlations exist between popularity and release year (0.213), and between popularity and vote average (0.159).\n",
    "- Vote average shows weak positive correlations with release year (0.175) and with vote count (0.267).\n",
    "- There's perfect correlation within individual variables (1.00).\n"
   ]
  },
  {
   "cell_type": "code",
   "execution_count": null,
   "metadata": {},
   "outputs": [],
   "source": [
    "# Calculate skewness\n",
    "skewness_popularity = tmdb_movies['popularity'].skew()\n",
    "skewness_vote_average = tmdb_movies['vote_average'].skew()\n",
    "skewness_vote_count = tmdb_movies['vote_count'].skew()\n",
    "skewness_release_year = tmdb_movies['release_year'].skew()\n",
    "\n",
    "print(\"Skewness of Popularity:\", skewness_popularity)\n",
    "print(\"Skewness of Vote Average:\", skewness_vote_average)\n",
    "print(\"Skewness of Vote Count:\", skewness_vote_count)\n",
    "print(\"Skewness of Release year:\", skewness_release_year)"
   ]
  },
  {
   "cell_type": "markdown",
   "metadata": {},
   "source": [
    "Microsoft's examination of box office performance indicators provides actionable insights:\n",
    "\n",
    "- To leverage on the favorable skewness of popularity, focus on developing extremely engaging content, with the goal of achieving extraordinary popularity for a few movies.\n",
    "\n",
    "- Ensure consistent quality among films to accommodate the balanced distribution of ratings, as shown by the negative skewness of the vote average.\n",
    "\n",
    "- Create tactics to elicit active participation from viewers, taking into account the high positive skewness of vote count, which indicates that a small number of films earn a significant amount of votes.\n",
    "\n",
    "- Given the negative skewness of release year, consumers seem to prefer fresher content. Align your content strategy with current trends."
   ]
  },
  {
   "cell_type": "code",
   "execution_count": null,
   "metadata": {},
   "outputs": [],
   "source": [
    "movie_budget.describe()"
   ]
  },
  {
   "cell_type": "code",
   "execution_count": null,
   "metadata": {
    "scrolled": false
   },
   "outputs": [],
   "source": [
    "# Correlation Analysis\n",
    "correlation_matrix = movie_budget[['production_budget', 'domestic_gross', 'worldwide_gross']].corr()\n",
    "\n",
    "# Plot heatmap of correlation matrix\n",
    "plt.figure(figsize=(10, 8))\n",
    "sns.heatmap(correlation_matrix, annot=True, cmap='RdBu', fmt=\".2f\")\n",
    "plt.title('Correlation Matrix')\n",
    "plt.show()\n"
   ]
  },
  {
   "cell_type": "markdown",
   "metadata": {},
   "source": [
    "In the context of Microsoft's business dilemma of establishing a new movie studio and determining what types of films to produce, correlation and skewness analysis of movie budgets and gross revenues can provide useful insights:\n",
    "\n",
    "Correlation Analysis:\n",
    "- The correlation matrix between production budget, domestic gross, and worldwide gross provides insight into the financial indicators' linkages.\n",
    "- A strong positive association between production budget and gross revenues would imply that bigger production investments typically result in higher box office returns. This insight can help Microsoft allocate budget for movie production.\n",
    "- Furthermore, the link between domestic and global gross revenues sheds light on the performance of films in various areas. A strong positive correlation would suggest"
   ]
  },
  {
   "cell_type": "code",
   "execution_count": null,
   "metadata": {},
   "outputs": [],
   "source": [
    "# Skewness Analysis\n",
    "skewness_production_budget = movie_budget['production_budget'].skew()\n",
    "skewness_domestic_gross = movie_budget['domestic_gross'].skew()\n",
    "skewness_worldwide_gross = movie_budget['worldwide_gross'].skew()\n",
    "\n",
    "print(\"\\nSkewness Analysis:\")\n",
    "print(\"Skewness of Production Budget:\", skewness_production_budget)\n",
    "print(\"Skewness of Domestic Gross:\", skewness_domestic_gross)\n",
    "print(\"Skewness of Worldwide Gross:\", skewness_worldwide_gross)"
   ]
  },
  {
   "cell_type": "markdown",
   "metadata": {},
   "source": [
    "  Skewness Analysis:\n",
    "- Examining the distribution patterns of production budget, domestic gross, and worldwide gross can shed light on financial indicators.\n",
    "- A right-skewed distribution of production budgets implies that, while some films have large budgets, the vast majority have smaller budgets. This information can assist Microsoft in assessing the risk associated with large-scale productions and making smart budget allocation decisions.\n",
    "- Similarly, right-skewed distributions of local and global gross revenues show that, while few blockbuster films generate large sums of money, the majority of movies earn less. This insight can help Microsoft manage expectations and evaluate the prospective financial performance of its film productions.\n",
    "\n"
   ]
  },
  {
   "cell_type": "code",
   "execution_count": null,
   "metadata": {},
   "outputs": [],
   "source": [
    "merged_data.describe()"
   ]
  },
  {
   "cell_type": "code",
   "execution_count": null,
   "metadata": {
    "scrolled": true
   },
   "outputs": [],
   "source": [
    "# Correlation Analysis\n",
    "correlation_matrix = merged_data[['runtime', 'rating']].corr()\n",
    "\n",
    "# Heatmap of Correlation Matrix\n",
    "plt.figure(figsize=(10, 8))\n",
    "sns.heatmap(correlation_matrix, annot=True, cmap='RdBu', fmt=\".2f\")\n",
    "plt.title('Correlation Matrix')\n",
    "plt.show()"
   ]
  },
  {
   "cell_type": "markdown",
   "metadata": {},
   "source": [
    "Correlation Analysis:\n",
    "- The correlation matrix between runtime and ratings shows the relationship between the two variables. A positive association between runtime and ratings would imply that longer films obtain higher ratings, indicating audience pleasure with lengthier narratives or immersive experiences. \n",
    "- A negative correlation, on the other hand, may indicate that spectators prefer shorter, more condensed films. Understanding this association can help Microsoft determine the best film durations to appeal to audience preferences, potentially increasing critical praise and box office success.\n"
   ]
  },
  {
   "cell_type": "code",
   "execution_count": null,
   "metadata": {},
   "outputs": [],
   "source": [
    "# Skewness Analysis\n",
    "skewness_runtime = merged_data['runtime'].skew()\n",
    "skewness_rating = merged_data['rating'].skew()\n",
    "\n",
    "\n",
    "print(\"Skewness of Runtime:\", skewness_runtime)\n",
    "print(\"Skewness of Rating:\", skewness_rating)\n"
   ]
  },
  {
   "cell_type": "markdown",
   "metadata": {},
   "source": [
    "Skewness Analysis \n",
    "- Skewness analysis of runtime and ratings reveals their distribution patterns. A right-skewed distribution of runtime indicates that, while there are longer films, the bulk of them have shorter runtimes. This knowledge can help Microsoft customize content creation to meet audience preferences for concise storytelling or more immersive cinematic experiences.\n",
    "- In contrast, the negative skewness of ratings implies a left-skewed distribution, implying that, while most movies obtain average ratings, there are fewer cases of severely poor ratings. Microsoft may use this skewness to better understand audience expectations and preferences for excellent content, driving their efforts to create critically acclaimed films that engage with audiences."
   ]
  },
  {
   "cell_type": "code",
   "execution_count": null,
   "metadata": {},
   "outputs": [],
   "source": []
  }
 ],
 "metadata": {
  "kernelspec": {
   "display_name": "Python 3",
   "language": "python",
   "name": "python3"
  },
  "language_info": {
   "codemirror_mode": {
    "name": "ipython",
    "version": 3
   },
   "file_extension": ".py",
   "mimetype": "text/x-python",
   "name": "python",
   "nbconvert_exporter": "python",
   "pygments_lexer": "ipython3",
   "version": "3.8.5"
  }
 },
 "nbformat": 4,
 "nbformat_minor": 2
}
